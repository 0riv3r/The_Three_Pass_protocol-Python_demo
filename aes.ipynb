{
 "cells": [
  {
   "cell_type": "markdown",
   "id": "e589a882-546d-4421-967b-686c81cdb205",
   "metadata": {},
   "source": [
    "## aes-cipher 2.0.0"
   ]
  },
  {
   "cell_type": "code",
   "execution_count": 1,
   "id": "449476a2-c995-4ab1-be7f-73139a67b864",
   "metadata": {},
   "outputs": [
    {
     "name": "stdout",
     "output_type": "stream",
     "text": [
      "Collecting aes-cipher\n",
      "  Downloading aes_cipher-2.0.0-py3-none-any.whl (28 kB)\n",
      "Requirement already satisfied: pycryptodome~=3.1 in c:\\users\\orivlin\\anaconda3\\lib\\site-packages (from aes-cipher) (3.16.0)\n",
      "Installing collected packages: aes-cipher\n",
      "Successfully installed aes-cipher-2.0.0\n"
     ]
    }
   ],
   "source": [
    "! pip install aes-cipher"
   ]
  },
  {
   "cell_type": "code",
   "execution_count": 14,
   "id": "93f71a7e-952b-43cd-a2b8-529049cd2d02",
   "metadata": {},
   "outputs": [],
   "source": [
    "from aes_cipher import DataEncrypter, Pbkdf2Sha512Default, DataDecrypter"
   ]
  },
  {
   "cell_type": "code",
   "execution_count": 20,
   "id": "200256ae-f170-4583-ac41-54aea9774eeb",
   "metadata": {},
   "outputs": [],
   "source": [
    "data= \"my test data with 128 bit password\"\n",
    "ata_encrypter = DataEncrypter(Pbkdf2Sha512Default)\n",
    "data_encrypter.Encrypt(data, str(310698002072283264939829687831378030148))\n",
    "enc_data = data_encrypter.GetEncryptedData()\n",
    "\n",
    "# print(enc_data)"
   ]
  },
  {
   "cell_type": "code",
   "execution_count": 23,
   "id": "01201e38-1c27-47c7-8675-d130aed7142a",
   "metadata": {},
   "outputs": [],
   "source": [
    "data_decrypter = DataDecrypter(Pbkdf2Sha512Default)\n",
    "data_decrypter.Decrypt(enc_data, str(310698002072283264939829687831378030148))\n",
    "dec_data = data_decrypter.GetDecryptedData()"
   ]
  },
  {
   "cell_type": "code",
   "execution_count": 24,
   "id": "e5888c79-1a73-4782-80d3-e9e959355e77",
   "metadata": {},
   "outputs": [
    {
     "name": "stdout",
     "output_type": "stream",
     "text": [
      "b'my test data with 128 bit password'\n"
     ]
    }
   ],
   "source": [
    "print(dec_data)"
   ]
  },
  {
   "cell_type": "code",
   "execution_count": null,
   "id": "8072aa39-ee1c-42fb-8d37-260775411d7e",
   "metadata": {},
   "outputs": [],
   "source": []
  }
 ],
 "metadata": {
  "kernelspec": {
   "display_name": "Python 3 (ipykernel)",
   "language": "python",
   "name": "python3"
  },
  "language_info": {
   "codemirror_mode": {
    "name": "ipython",
    "version": 3
   },
   "file_extension": ".py",
   "mimetype": "text/x-python",
   "name": "python",
   "nbconvert_exporter": "python",
   "pygments_lexer": "ipython3",
   "version": "3.9.15"
  }
 },
 "nbformat": 4,
 "nbformat_minor": 5
}
